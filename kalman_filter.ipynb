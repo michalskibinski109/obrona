{
 "cells": [
  {
   "cell_type": "code",
   "execution_count": 1,
   "metadata": {},
   "outputs": [],
   "source": [
    "import numpy as np"
   ]
  },
  {
   "cell_type": "code",
   "execution_count": 2,
   "metadata": {},
   "outputs": [],
   "source": [
    "# Inicjalizacja\n",
    "x = np.array([0, 0])  # stan początkowy (pozycja, prędkość)\n",
    "P = np.eye(2)  # początkowa macierz kowariancji\n"
   ]
  },
  {
   "cell_type": "code",
   "execution_count": 3,
   "metadata": {},
   "outputs": [],
   "source": [
    "# Definicja macierzy\n",
    "dt = 1.0  # krok czasowy\n",
    "F = np.array([[1, dt], [0, 1]])  # macierz przejścia stanu\n",
    "B = np.array([0.5 * dt**2, dt])  # macierz sterowania\n",
    "Q = np.eye(2)  # macierz szumów procesu\n",
    "H = np.array([[1, 0]])  # macierz pomiaru\n",
    "R = np.array([10])  # szum pomiaru\n"
   ]
  },
  {
   "cell_type": "code",
   "execution_count": 4,
   "metadata": {},
   "outputs": [],
   "source": [
    "# Symulacja pomiarów\n",
    "true_x = 0.5 * dt**2 * np.arange(100)  # prawdziwa pozycja\n",
    "measurements = true_x + np.random.normal(0, np.sqrt(R), size=true_x.shape)  # szumne pomiary\n"
   ]
  },
  {
   "cell_type": "code",
   "execution_count": 5,
   "metadata": {},
   "outputs": [
    {
     "name": "stdout",
     "output_type": "stream",
     "text": [
      "[49.46634867  0.49861808]\n"
     ]
    }
   ],
   "source": [
    "# Filtr Kalmana\n",
    "for z in measurements:\n",
    "    # Predykcja\n",
    "    x = F @ x\n",
    "    P = F @ P @ F.T + Q\n",
    "\n",
    "    # Aktualizacja\n",
    "    y = z - H @ x  # reszta\n",
    "    S = H @ P @ H.T + R  # kowariancja reszty\n",
    "    K = P @ H.T @ np.linalg.inv(S)  # wzmocnienie Kalmana\n",
    "    x = x + K @ y\n",
    "    P = (np.eye(2) - K @ H) @ P\n",
    "\n",
    "print(x)"
   ]
  }
 ],
 "metadata": {
  "kernelspec": {
   "display_name": "Python 3",
   "language": "python",
   "name": "python3"
  },
  "language_info": {
   "codemirror_mode": {
    "name": "ipython",
    "version": 3
   },
   "file_extension": ".py",
   "mimetype": "text/x-python",
   "name": "python",
   "nbconvert_exporter": "python",
   "pygments_lexer": "ipython3",
   "version": "3.10.10"
  }
 },
 "nbformat": 4,
 "nbformat_minor": 2
}
